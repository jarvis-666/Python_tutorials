{
 "cells": [
  {
   "cell_type": "code",
   "execution_count": 2,
   "metadata": {},
   "outputs": [
    {
     "name": "stdout",
     "output_type": "stream",
     "text": [
      "hello world\n"
     ]
    }
   ],
   "source": [
    "# print 'hello world\n",
    "print('hello world')"
   ]
  },
  {
   "cell_type": "code",
   "execution_count": 15,
   "metadata": {},
   "outputs": [
    {
     "data": {
      "text/plain": [
       "6"
      ]
     },
     "execution_count": 15,
     "metadata": {},
     "output_type": "execute_result"
    }
   ],
   "source": [
    "# Lets work from the scratch\n",
    "# Add two number\n",
    "a=2\n",
    "b=4\n",
    "a+b\n"
   ]
  },
  {
   "cell_type": "code",
   "execution_count": 18,
   "metadata": {},
   "outputs": [
    {
     "name": "stdout",
     "output_type": "stream",
     "text": [
      "the sum of two numbers are: 6\n"
     ]
    }
   ],
   "source": [
    "# To display the sum\n",
    "print('the sum of two numbers are:', a+b)"
   ]
  },
  {
   "cell_type": "code",
   "execution_count": 19,
   "metadata": {},
   "outputs": [
    {
     "name": "stdout",
     "output_type": "stream",
     "text": [
      "the sum of 2 and 4 are 6\n"
     ]
    }
   ],
   "source": [
    "# Lets take a reference variable sum\n",
    "sum= a+b\n",
    "print('the sum of {0} and {1} are {2}'.format(a,b,sum))"
   ]
  },
  {
   "cell_type": "code",
   "execution_count": null,
   "metadata": {},
   "outputs": [],
   "source": [
    "print('The sum of {0} and {1} is {2}'.format(num1, num2, sum))"
   ]
  },
  {
   "cell_type": "code",
   "execution_count": 24,
   "metadata": {},
   "outputs": [
    {
     "name": "stdout",
     "output_type": "stream",
     "text": [
      "Enter first number:5\n",
      "Enter second number:6\n",
      "The Sum of 5 and 6 are 11\n"
     ]
    }
   ],
   "source": [
    "# Let the user enter the inputs\n",
    "num1= int(input('Enter first number:'))     # To convert string to int or float\n",
    "num2= int(input('Enter second number:'))\n",
    "# Add two numbers\n",
    "sum= num1+num2\n",
    "#display the sum\n",
    "print('The Sum of {0} and {1} are {2}'. format(num1, num2, sum))\n"
   ]
  },
  {
   "cell_type": "code",
   "execution_count": 25,
   "metadata": {},
   "outputs": [
    {
     "name": "stdout",
     "output_type": "stream",
     "text": [
      "Enter first number:1.9\n",
      "Enter second number:2.56\n",
      "The Sum of 1.9 and 2.56 are 4.46\n"
     ]
    }
   ],
   "source": [
    "# The above program can be written for float\n",
    "# Let the user enter the inputs\n",
    "num1= float(input('Enter first number:'))        # To convert string to int or float\n",
    "num2= float(input('Enter second number:'))\n",
    "# Add two numbers\n",
    "sum= num1+num2\n",
    "#display the sum\n",
    "print('The Sum of {0} and {1} are {2}'. format(num1, num2, sum))\n"
   ]
  },
  {
   "cell_type": "code",
   "execution_count": 32,
   "metadata": {},
   "outputs": [
    {
     "name": "stdout",
     "output_type": "stream",
     "text": [
      "Enter a number:2.56\n",
      "The squre root of 2.560 is 6.554\n"
     ]
    }
   ],
   "source": [
    "# calcute the square root\n",
    "\n",
    "a= float(input('Enter a number:'))\n",
    "sqrt = a**2\n",
    "print('The squre root of %0.3f is %0.3f' %(a,sqrt))  "
   ]
  },
  {
   "cell_type": "code",
   "execution_count": 38,
   "metadata": {},
   "outputs": [
    {
     "name": "stdout",
     "output_type": "stream",
     "text": [
      "The area of a triangle is: 6.8100000000000005\n"
     ]
    }
   ],
   "source": [
    "# To find area of a triangle\n",
    "# formula is A = 1/2(b*h)\n",
    "b=3\n",
    "h=4.54\n",
    "A = (b*h)/2\n",
    "print('The area of a triangle is:', A)"
   ]
  },
  {
   "cell_type": "code",
   "execution_count": 40,
   "metadata": {},
   "outputs": [
    {
     "name": "stdout",
     "output_type": "stream",
     "text": [
      "The area of a triangle is 6.81\n"
     ]
    }
   ],
   "source": [
    "# To find area of a triangle\n",
    "# formula is A = 1/2(b*h)\n",
    "b=3\n",
    "h=4.54\n",
    "A = (b*h)/2\n",
    "print('The area of a triangle is %0.2f' %A)  # %0.2f which means consider only 2 numbers after 6.8100000000000005"
   ]
  },
  {
   "cell_type": "code",
   "execution_count": 42,
   "metadata": {},
   "outputs": [
    {
     "name": "stdout",
     "output_type": "stream",
     "text": [
      "The area of a triangle is 6.810\n"
     ]
    }
   ],
   "source": [
    "print('The area of a triangle is %0.3f' %A)  # %0.2f which means consider only 3 numbers after 6.8100000000000005"
   ]
  },
  {
   "cell_type": "code",
   "execution_count": 45,
   "metadata": {},
   "outputs": [
    {
     "name": "stdout",
     "output_type": "stream",
     "text": [
      "Enter the value of a is:2.334\n",
      "Enter the value of b is:2.443\n",
      "the swapped number a is: 2.443\n",
      "the swapped number b is: 2.334\n"
     ]
    }
   ],
   "source": [
    "# Swapping two numbers \n",
    "a=float(input('Enter the value of a is:'))\n",
    "b=float(input('Enter the value of b is:'))\n",
    "temp=a\n",
    "a=b\n",
    "b=temp\n",
    "print('the swapped number a is:', a)\n",
    "print('the swapped number b is:', b)"
   ]
  },
  {
   "cell_type": "code",
   "execution_count": 47,
   "metadata": {},
   "outputs": [
    {
     "name": "stdout",
     "output_type": "stream",
     "text": [
      "The swapped a value is: 4.959\n",
      "The swapped b value is: 4.595\n"
     ]
    }
   ],
   "source": [
    "# The following code without using temporary variable\n",
    "a=4.595\n",
    "b=4.959\n",
    "a,b=b,a\n",
    "print('The swapped a value is:', a)\n",
    "print('The swapped b value is:', b)\n"
   ]
  },
  {
   "cell_type": "code",
   "execution_count": 49,
   "metadata": {},
   "outputs": [
    {
     "name": "stdout",
     "output_type": "stream",
     "text": [
      "3\n"
     ]
    }
   ],
   "source": [
    "# Generate random number between 0 to 9 by using random module\n",
    "import random\n",
    "print(random.randint(0,9))"
   ]
  },
  {
   "cell_type": "code",
   "execution_count": 58,
   "metadata": {},
   "outputs": [
    {
     "data": {
      "text/plain": [
       "7"
      ]
     },
     "execution_count": 58,
     "metadata": {},
     "output_type": "execute_result"
    }
   ],
   "source": [
    "# By using numpy also we can generate random number\n",
    "import numpy as np\n",
    "np.random.randint(0, 9)"
   ]
  },
  {
   "cell_type": "code",
   "execution_count": 56,
   "metadata": {},
   "outputs": [
    {
     "data": {
      "text/plain": [
       "array([201, 554, 420, 132])"
      ]
     },
     "execution_count": 56,
     "metadata": {},
     "output_type": "execute_result"
    }
   ],
   "source": [
    "np.random.randint(1, 620, 4)"
   ]
  },
  {
   "cell_type": "code",
   "execution_count": 65,
   "metadata": {},
   "outputs": [
    {
     "name": "stdout",
     "output_type": "stream",
     "text": [
      "35.00 kilometers is equal to 56.00 miles\n"
     ]
    }
   ],
   "source": [
    "# Kilometers to miles conversion\n",
    "# 1km= 1.6miles\n",
    "kilometers=35\n",
    "miles=kilometers*1.6\n",
    "print('%.2f kilometers is equal to %.2f miles' %(km,miles))"
   ]
  },
  {
   "cell_type": "code",
   "execution_count": 66,
   "metadata": {},
   "outputs": [
    {
     "name": "stdout",
     "output_type": "stream",
     "text": [
      "['banana', 'mango', 'orange']\n",
      "(1, 2, 3)\n",
      "{'a': 'apple', 'b': 'ball', 'c': 'cake'}\n",
      "{'e', 'u', 'o', 'a', 'i'}\n"
     ]
    }
   ],
   "source": [
    "fruits = [\"banana\", \"mango\", \"orange\"] #list\n",
    "numbers = (1, 2, 3) #tuple\n",
    "alphabets = {'a':'apple', 'b':'ball', 'c':'cake'} #dictionary\n",
    "vowels = {'a', 'e', 'i' , 'o', 'u'} #set\n",
    "\n",
    "print(fruits)\n",
    "print(numbers)\n",
    "print(alphabets)\n",
    "print(vowels)"
   ]
  },
  {
   "cell_type": "code",
   "execution_count": 72,
   "metadata": {},
   "outputs": [
    {
     "name": "stdout",
     "output_type": "stream",
     "text": [
      "Enter Year: 2016\n",
      "2016 is a Leap Year\n"
     ]
    }
   ],
   "source": [
    "year = int(input('Enter Year: '))\n",
    "\n",
    "# Leap Year Check\n",
    "if year % 4 == 0 and year % 100 != 0:\n",
    "    print(year, 'is a Leap Year')\n",
    "elif year % 400 ==0:\n",
    "    print(year, 'is a Leap Year')\n",
    "elif year % 100 == 0:\n",
    "    print(year, 'is not a Leap Year')\n",
    "else:\n",
    "    print(year, 'is not a Leap Year')"
   ]
  },
  {
   "cell_type": "code",
   "execution_count": null,
   "metadata": {},
   "outputs": [],
   "source": []
  }
 ],
 "metadata": {
  "kernelspec": {
   "display_name": "Python 3",
   "language": "python",
   "name": "python3"
  },
  "language_info": {
   "codemirror_mode": {
    "name": "ipython",
    "version": 3
   },
   "file_extension": ".py",
   "mimetype": "text/x-python",
   "name": "python",
   "nbconvert_exporter": "python",
   "pygments_lexer": "ipython3",
   "version": "3.7.6"
  }
 },
 "nbformat": 4,
 "nbformat_minor": 4
}
